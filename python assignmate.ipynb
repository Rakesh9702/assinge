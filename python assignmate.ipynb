{
 "cells": [
  {
   "cell_type": "code",
   "execution_count": 7,
   "id": "8154917b-840d-4f96-adc9-55e9428aaecf",
   "metadata": {},
   "outputs": [],
   "source": [
    "x=5\n",
    "y=10"
   ]
  },
  {
   "cell_type": "code",
   "execution_count": 8,
   "id": "2d58de49-c666-4b33-a52a-d67a420cd705",
   "metadata": {},
   "outputs": [],
   "source": [
    "x=x+y\n",
    "y=x-y\n",
    "x=x-y"
   ]
  },
  {
   "cell_type": "code",
   "execution_count": 9,
   "id": "ef9d1675-c2d2-4480-acd3-509c2d0b66f5",
   "metadata": {},
   "outputs": [
    {
     "name": "stdout",
     "output_type": "stream",
     "text": [
      "after swapping:\n",
      "x= 10\n",
      "y= 5\n"
     ]
    }
   ],
   "source": [
    "print(\"after swapping:\")\n",
    "print(\"x=\",x)\n",
    "print(\"y=\",y)"
   ]
  },
  {
   "cell_type": "code",
   "execution_count": 10,
   "id": "11e01a08-597c-48ba-b5b1-c3331b120950",
   "metadata": {},
   "outputs": [
    {
     "name": "stdin",
     "output_type": "stream",
     "text": [
      "Enter the length of the rectangle:  56\n",
      "Enter the width of the rectangle:  34\n"
     ]
    }
   ],
   "source": [
    "#get the length and width from the user\n",
    "length=float(input(\"Enter the length of the rectangle: \"))\n",
    "width=float(input(\"Enter the width of the rectangle: \"))"
   ]
  },
  {
   "cell_type": "code",
   "execution_count": 11,
   "id": "caeeb6d2-1fe8-44bc-ac05-03f27d0b1253",
   "metadata": {},
   "outputs": [],
   "source": [
    "#calculate the area\n",
    "area=length*width"
   ]
  },
  {
   "cell_type": "code",
   "execution_count": 12,
   "id": "228a300b-a8ef-4e67-854a-c3ebbbe22ef7",
   "metadata": {},
   "outputs": [
    {
     "name": "stdout",
     "output_type": "stream",
     "text": [
      "the area of the rectangle is: 1904.0\n"
     ]
    }
   ],
   "source": [
    "#display the result\n",
    "print(\"the area of the rectangle is:\",area)"
   ]
  },
  {
   "cell_type": "code",
   "execution_count": 13,
   "id": "74e9ae9b-a625-44cf-8efc-f4ccc5e91d4b",
   "metadata": {},
   "outputs": [
    {
     "name": "stdin",
     "output_type": "stream",
     "text": [
      "enter the temperature in celsius: 34\n"
     ]
    }
   ],
   "source": [
    "#get the temperature in celsius from user\n",
    "celsius=float(input(\"enter the temperature in celsius:\"))"
   ]
  },
  {
   "cell_type": "code",
   "execution_count": 14,
   "id": "2ff23d5d-98e5-405c-9bd2-64b17bf41c63",
   "metadata": {},
   "outputs": [],
   "source": [
    "#convert celsius to fahrenheit\n",
    "fahrenheit=(celsius*9/5)+32"
   ]
  },
  {
   "cell_type": "code",
   "execution_count": 15,
   "id": "5c202c7e-c4a8-471e-a6a9-8d1e574d8ad6",
   "metadata": {},
   "outputs": [
    {
     "name": "stdout",
     "output_type": "stream",
     "text": [
      "temperature in fahrenheit: 93.2\n"
     ]
    }
   ],
   "source": [
    "#display the result\n",
    "print(\"temperature in fahrenheit:\",fahrenheit)"
   ]
  },
  {
   "cell_type": "code",
   "execution_count": 19,
   "id": "b1338153-29a3-4ffe-a217-e8f9392e7b47",
   "metadata": {},
   "outputs": [
    {
     "name": "stdin",
     "output_type": "stream",
     "text": [
      "enter a string:  32\n"
     ]
    }
   ],
   "source": [
    "#get a string as input from the user\n",
    "user_input=input(\"enter a string: \")"
   ]
  },
  {
   "cell_type": "code",
   "execution_count": 21,
   "id": "e91b5772-a936-4022-81dc-dc7f0ed7ac6c",
   "metadata": {},
   "outputs": [
    {
     "name": "stdout",
     "output_type": "stream",
     "text": [
      "the length of the string is: 2\n"
     ]
    }
   ],
   "source": [
    "#calculate and print the length of string\n",
    "string_length=len(user_input)\n",
    "print(\"the length of the string is:\",string_length)"
   ]
  },
  {
   "cell_type": "code",
   "execution_count": 22,
   "id": "2d5b8505-7b36-49a5-84e5-6cfae80581d8",
   "metadata": {},
   "outputs": [],
   "source": [
    "#get a sentance as input from user\n",
    "user_input=(\"enter the sentance:\")"
   ]
  },
  {
   "cell_type": "code",
   "execution_count": 23,
   "id": "c85a94f9-7ce5-4a4f-be4f-8ebb8c432316",
   "metadata": {},
   "outputs": [],
   "source": [
    "#convert the input sentence to lowercase to handle both uppercase and lowercase vowels\n",
    "user_input=user_input.lower()"
   ]
  },
  {
   "cell_type": "code",
   "execution_count": 24,
   "id": "4273ce1e-5728-433a-ac43-81e554b2bc3d",
   "metadata": {},
   "outputs": [],
   "source": [
    "#initialize a variable to count vowels\n",
    "vowel_count=0"
   ]
  },
  {
   "cell_type": "code",
   "execution_count": 25,
   "id": "3fb60408-445a-4fe0-a339-f250460c5440",
   "metadata": {},
   "outputs": [],
   "source": [
    "#define a set of vowels\n",
    "vowels='aeiou'"
   ]
  },
  {
   "cell_type": "code",
   "execution_count": 26,
   "id": "39668a64-e4ce-48fb-9c48-8a9c82ac778f",
   "metadata": {},
   "outputs": [],
   "source": [
    "#loop through each character in the sentence\n",
    "for char in user_input:\n",
    "    #check if the character is vowel\n",
    "    if char in vowels:\n",
    "        vowel_count+=1"
   ]
  },
  {
   "cell_type": "code",
   "execution_count": 27,
   "id": "2d31f027-44ac-482e-b922-16d4721f1482",
   "metadata": {},
   "outputs": [
    {
     "name": "stdout",
     "output_type": "stream",
     "text": [
      "number of vowels in sentence: 6\n"
     ]
    }
   ],
   "source": [
    "#display the vowel count\n",
    "print(\"number of vowels in sentence:\",vowel_count)"
   ]
  },
  {
   "cell_type": "code",
   "execution_count": 28,
   "id": "50ad0980-56f1-4481-bb8c-34d0ce613d56",
   "metadata": {},
   "outputs": [
    {
     "name": "stdin",
     "output_type": "stream",
     "text": [
      "enter a string: 82\n"
     ]
    }
   ],
   "source": [
    "#get a string as a input from user\n",
    "input_string=input(\"enter a string:\")"
   ]
  },
  {
   "cell_type": "code",
   "execution_count": 31,
   "id": "91dc2694-e673-4145-94b2-ab02dc2888b5",
   "metadata": {},
   "outputs": [],
   "source": [
    "#use string slicing to reverse the string\n",
    "reversed_string=input_string[::-1]"
   ]
  },
  {
   "cell_type": "code",
   "execution_count": 32,
   "id": "cd1ec4f3-4dd8-4c6d-be58-a45181252476",
   "metadata": {},
   "outputs": [
    {
     "name": "stdout",
     "output_type": "stream",
     "text": [
      "reversed string: 28\n"
     ]
    }
   ],
   "source": [
    "#print the reversed string\n",
    "print(\"reversed string:\",reversed_string)"
   ]
  },
  {
   "cell_type": "code",
   "execution_count": 33,
   "id": "01a66b59-8c82-40fd-bcfd-4c0876526cf2",
   "metadata": {},
   "outputs": [
    {
     "name": "stdin",
     "output_type": "stream",
     "text": [
      "enter a string: 23\n"
     ]
    }
   ],
   "source": [
    "#get a string as input from user\n",
    "input_string=input(\"enter a string:\")"
   ]
  },
  {
   "cell_type": "code",
   "execution_count": 34,
   "id": "c099629a-37c7-4eb9-9052-8d01049a3482",
   "metadata": {},
   "outputs": [],
   "source": [
    "#remove spaces and convert to lowercase for case insensitive palindrome check\n",
    "cleaned_string=input_string.replace(\" \",\"\").lower()"
   ]
  },
  {
   "cell_type": "code",
   "execution_count": 35,
   "id": "d770b3e2-f016-4882-8f4e-c70b6b37ffc2",
   "metadata": {},
   "outputs": [],
   "source": [
    "#reverse the string\n",
    "reversed_string=cleaned_string[::-1]"
   ]
  },
  {
   "cell_type": "code",
   "execution_count": 37,
   "id": "495a834a-907b-4e93-bf2c-22eaa4fed79c",
   "metadata": {},
   "outputs": [
    {
     "name": "stdout",
     "output_type": "stream",
     "text": [
      "the input string is not a palindrome.\n"
     ]
    }
   ],
   "source": [
    "#check if the original and reversed strings are the same\n",
    "if cleaned_string==reversed_string:\n",
    "    print(\"the input string is palindrome.\")\n",
    "else:\n",
    "    print(\"the input string is not a palindrome.\")"
   ]
  },
  {
   "cell_type": "code",
   "execution_count": 38,
   "id": "00eee04c-91cd-44cd-92c2-d80cd2c0ec38",
   "metadata": {},
   "outputs": [
    {
     "name": "stdin",
     "output_type": "stream",
     "text": [
      "enter the string: 45\n"
     ]
    }
   ],
   "source": [
    "#get a string as input from user\n",
    "input_string=input(\"enter the string:\")"
   ]
  },
  {
   "cell_type": "code",
   "execution_count": 39,
   "id": "34f363d5-7b80-4d39-9924-d4d6a52c1732",
   "metadata": {},
   "outputs": [],
   "source": [
    "#remove spaces from the input string\n",
    "no_spaces_string=input_string.replace(\" \",\"\")"
   ]
  },
  {
   "cell_type": "code",
   "execution_count": null,
   "id": "177e4702-dcad-4959-9076-8d99e35e117a",
   "metadata": {},
   "outputs": [],
   "source": [
    "#print the modified string without spaces\n",
    "print(\"modified string without spaces)"
   ]
  }
 ],
 "metadata": {
  "kernelspec": {
   "display_name": "Python 3 (ipykernel)",
   "language": "python",
   "name": "python3"
  },
  "language_info": {
   "codemirror_mode": {
    "name": "ipython",
    "version": 3
   },
   "file_extension": ".py",
   "mimetype": "text/x-python",
   "name": "python",
   "nbconvert_exporter": "python",
   "pygments_lexer": "ipython3",
   "version": "3.10.8"
  }
 },
 "nbformat": 4,
 "nbformat_minor": 5
}
